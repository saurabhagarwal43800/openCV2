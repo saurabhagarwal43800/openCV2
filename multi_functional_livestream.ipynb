{
 "cells": [
  {
   "cell_type": "markdown",
   "metadata": {},
   "source": [
    "# Crop, Resize, Placing at some frame and Converting into Grayscale"
   ]
  },
  {
   "cell_type": "code",
   "execution_count": 14,
   "metadata": {},
   "outputs": [],
   "source": [
    "import cv2"
   ]
  },
  {
   "cell_type": "code",
   "execution_count": 22,
   "metadata": {},
   "outputs": [],
   "source": [
    "cap=cv2.VideoCapture(0)"
   ]
  },
  {
   "cell_type": "code",
   "execution_count": 23,
   "metadata": {},
   "outputs": [],
   "source": [
    "while True:\n",
    "    status,photo=cap.read()\n",
    "    c_photo=photo[100:400,200:500]               # To crop the image\n",
    "    r_photo=cv2.resize(c_photo,(100,100))        # To resize the image\n",
    "    photo[0:100,0:100]=r_photo                   # Assign the cropped and resized photo the the frame of the original photo\n",
    "    grey_photo=cv2.cvtColor(photo,cv2.COLOR_BGR2GRAY)   # Converting into Grayscale image \n",
    "    cv2.imshow('Smart Video Camera',grey_photo)         # Livestreaming the images\n",
    "    if cv2.waitKey(1)==13:\n",
    "        break\n",
    "cv2.destroyAllWindows()\n",
    "    "
   ]
  },
  {
   "cell_type": "code",
   "execution_count": 24,
   "metadata": {},
   "outputs": [],
   "source": [
    "cap.release()"
   ]
  },
  {
   "cell_type": "code",
   "execution_count": null,
   "metadata": {},
   "outputs": [],
   "source": []
  }
 ],
 "metadata": {
  "kernelspec": {
   "display_name": "Python 3",
   "language": "python",
   "name": "python3"
  },
  "language_info": {
   "codemirror_mode": {
    "name": "ipython",
    "version": 3
   },
   "file_extension": ".py",
   "mimetype": "text/x-python",
   "name": "python",
   "nbconvert_exporter": "python",
   "pygments_lexer": "ipython3",
   "version": "3.7.0"
  }
 },
 "nbformat": 4,
 "nbformat_minor": 2
}
